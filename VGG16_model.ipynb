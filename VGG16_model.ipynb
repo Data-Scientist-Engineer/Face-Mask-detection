{
  "nbformat": 4,
  "nbformat_minor": 0,
  "metadata": {
    "colab": {
      "name": "VGG16_model.ipynb",
      "provenance": [],
      "mount_file_id": "1qK36RJ1vxPaOyNwWMn73wm-HlrQzru6C",
      "authorship_tag": "ABX9TyPYBI7xQ/TYJuyHG9APNAb+",
      "include_colab_link": true
    },
    "kernelspec": {
      "name": "python3",
      "display_name": "Python 3"
    },
    "language_info": {
      "name": "python"
    }
  },
  "cells": [
    {
      "cell_type": "markdown",
      "metadata": {
        "id": "view-in-github",
        "colab_type": "text"
      },
      "source": [
        "<a href=\"https://colab.research.google.com/github/Data-Scientist-Engineer/Face-Mask-detection/blob/main/VGG16_model.ipynb\" target=\"_parent\"><img src=\"https://colab.research.google.com/assets/colab-badge.svg\" alt=\"Open In Colab\"/></a>"
      ]
    },
    {
      "cell_type": "code",
      "execution_count": 2,
      "metadata": {
        "id": "tz_RvGMHIx_j"
      },
      "outputs": [],
      "source": [
        "import numpy as np \n",
        "import pandas as pd\n",
        "import tensorflow as tf\n",
        "from tensorflow import keras\n",
        "from tensorflow.keras.models import Sequential\n",
        "from tensorflow.keras.layers import Activation, Dense, Flatten, BatchNormalization, Conv2D, MaxPool2D,GlobalAveragePooling2D\n",
        "from tensorflow.keras.optimizers import Adam, SGD\n",
        "from tensorflow.keras.metrics import categorical_crossentropy\n",
        "from tensorflow.keras.preprocessing.image import ImageDataGenerator\n",
        "from tensorflow.keras.callbacks import ModelCheckpoint, EarlyStopping, TensorBoard\n",
        "from tensorflow.keras.models import Model\n",
        "from tensorflow.keras.applications.vgg16 import VGG16\n",
        "from tensorflow.keras.applications.xception import Xception\n",
        "\n",
        "from tensorflow.keras.utils import plot_model\n",
        "from tensorflow.keras import layers\n",
        "from sklearn.metrics import confusion_matrix\n",
        "import itertools\n",
        "import os\n",
        "import shutil\n",
        "import random\n",
        "import glob\n",
        "import matplotlib.pyplot as plt\n",
        "import warnings\n",
        "import datetime\n",
        "\n",
        "from sklearn.metrics import confusion_matrix\n",
        "import itertools\n",
        "import matplotlib.pyplot as plt"
      ]
    },
    {
      "cell_type": "code",
      "source": [
        "# Organize data into train, test directories\n",
        "main_path = \"/content/drive/MyDrive/python/Projet_CNN/model2/data\"\n",
        "with_mask_path = \"/content/drive/MyDrive/python/Projet_CNN/model2/data/with_mask\"\n",
        "without_mask_path = \"/content/drive/MyDrive/python/Projet_CNN/model2/data/without_mask\""
      ],
      "metadata": {
        "id": "tRRRN54PI6FN"
      },
      "execution_count": 4,
      "outputs": []
    },
    {
      "cell_type": "code",
      "source": [
        "from distutils.dir_util import copy_tree\n",
        "\n",
        "if os.path.isdir('/content/drive/MyDrive/python/Projet_CNN/model2') is False:\n",
        "        \n",
        "    os.makedirs('/content/drive/MyDrive/python/Projet_CNN/model2')\n",
        "    \n",
        "    fromDir_main='/content/drive/MyDrive/python/Projet_CNN/model2'\n",
        "    fromDir_with='/content/drive/MyDrive/python/Projet_CNN/model2/data/with_mask'\n",
        "    fromDir_without='/content/drive/MyDrive/python/Projet_CNN/model2/data/without_mask'\n",
        "    \n",
        "    toDir_main= '/content/drive/MyDrive/python/Projet_CNN/data'\n",
        "    toDir_with='/content/drive/MyDrive/python/Projet_CNN/model2/data/with_mask'\n",
        "    toDir_without='/content/drive/MyDrive/python/Projet_CNN/model2/data/without_mask'\n",
        "    \n",
        "    \n",
        "    fromDir_list=[fromDir_main,fromDir_with,fromDir_incorrect,fromDir_without]\n",
        "    \n",
        "    toDir_list=[toDir_main,toDir_with,toDir_incorrect,toDir_without]\n",
        "\n",
        "\n",
        "    for fromDir,toDir in zip(fromDir_list,toDir_list):\n",
        "        copy_tree(fromDir,toDir)"
      ],
      "metadata": {
        "id": "huWQguKKJSdZ"
      },
      "execution_count": 5,
      "outputs": []
    },
    {
      "cell_type": "code",
      "source": [
        "#Sanity Check\n",
        "print(len(os.listdir(\"/content/drive/MyDrive/python/Projet_CNN/model2/data/with_mask\")))\n",
        "print(len(os.listdir(\"/content/drive/MyDrive/python/Projet_CNN/model2/data/without_mask\")))"
      ],
      "metadata": {
        "colab": {
          "base_uri": "https://localhost:8080/"
        },
        "id": "fLux4p3GJ_5I",
        "outputId": "401683fd-d2d3-41ca-8ee1-24bcfff2c137"
      },
      "execution_count": 6,
      "outputs": [
        {
          "output_type": "stream",
          "name": "stdout",
          "text": [
            "3725\n",
            "3828\n"
          ]
        }
      ]
    },
    {
      "cell_type": "code",
      "source": [
        "import os\n",
        "train_size = 2000\n",
        "test_size = 300\n",
        "os.chdir(main_path)\n",
        "if os.path.isdir('valid/with_mask') is False:\n",
        "    #train:\n",
        "    os.makedirs('/content/drive/MyDrive/python/Projet_CNN/model2/data/train/with_mask')\n",
        "    os.makedirs('/content/drive/MyDrive/python/Projet_CNN/model2/data/train/without_mask')\n",
        "    \n",
        "    #test:\n",
        "    os.makedirs('/content/drive/MyDrive/python/Projet_CNN/model2/data/test/with_mask')\n",
        "    os.makedirs('/content/drive/MyDrive/python/Projet_CNN/model2/data/test/without_mask')\n",
        "\n",
        "    \n",
        "    os.chdir(with_mask_path)\n",
        "    for i in random.sample(glob.glob('*'), train_size):\n",
        "        shutil.move(i,\n",
        "                    '/content/drive/MyDrive/python/Projet_CNN/model2/data/train/with_mask')\n",
        "\n",
        "    os.chdir(without_mask_path)\n",
        "    for i in random.sample(glob.glob('*'), train_size):\n",
        "        shutil.move(i,\n",
        "                    '/content/drive/MyDrive/python/Projet_CNN/model2/data/train/without_mask')\n",
        "    \n",
        "    os.chdir(with_mask_path)\n",
        "    for i in random.sample(glob.glob('*'), test_size):\n",
        "        shutil.move(i,\n",
        "                    '/content/drive/MyDrive/python/Projet_CNN/model2/data/test/with_mask')\n",
        "\n",
        "    os.chdir(without_mask_path)\n",
        "    for i in random.sample(glob.glob('*'), test_size):\n",
        "        shutil.move(i,\n",
        "                    '/content/drive/MyDrive/python/Projet_CNN/model2/data/test/without_mask')\n",
        "        \n",
        "os.chdir('../../')"
      ],
      "metadata": {
        "id": "tS2Vw9bWKKrn"
      },
      "execution_count": 7,
      "outputs": []
    },
    {
      "cell_type": "code",
      "source": [
        "#Sanity Check\n",
        "print(len(os.listdir('/content/drive/MyDrive/python/Projet_CNN/model2/data/train/with_mask')))\n",
        "print(len(os.listdir('/content/drive/MyDrive/python/Projet_CNN/model2/data/train/without_mask')))\n",
        "\n",
        "print(len(os.listdir('/content/drive/MyDrive/python/Projet_CNN/model2/data/test/with_mask')))\n",
        "print(len(os.listdir('/content/drive/MyDrive/python/Projet_CNN/model2/data/test/without_mask')))"
      ],
      "metadata": {
        "colab": {
          "base_uri": "https://localhost:8080/"
        },
        "id": "6fLCpgrYK688",
        "outputId": "a4deb3c5-7bae-44b6-a217-689149de3994"
      },
      "execution_count": 8,
      "outputs": [
        {
          "output_type": "stream",
          "name": "stdout",
          "text": [
            "2000\n",
            "2000\n",
            "300\n",
            "300\n"
          ]
        }
      ]
    },
    {
      "cell_type": "code",
      "source": [
        "train_datagen = ImageDataGenerator(rescale=1./255,\n",
        "                                   zoom_range=0.3,\n",
        "                                   rotation_range=30,\n",
        "                                   width_shift_range=0.2,\n",
        "                                   height_shift_range=0.2,\n",
        "                                   brightness_range=[0.4,1.5],\n",
        "                                   horizontal_flip=True)\n",
        "\n",
        "training_set = train_datagen.flow_from_directory(train_dir,\n",
        "                                                batch_size=32,\n",
        "                                                target_size=(224,224),\n",
        "                                                shuffle=True,\n",
        "                                                color_mode='rgb',\n",
        "                                                class_mode='categorical')\n",
        "\n",
        "test_datagen = ImageDataGenerator(rescale=1./255)\n",
        "test_set = test_datagen.flow_from_directory(test_dir,\n",
        "                                                batch_size=32,\n",
        "                                                target_size=(224,224),\n",
        "                                                shuffle=True,\n",
        "                                                color_mode='rgb',\n",
        "                                                class_mode='categorical')"
      ],
      "metadata": {
        "colab": {
          "base_uri": "https://localhost:8080/"
        },
        "id": "4ykB7Jj8LfpS",
        "outputId": "6b86609d-15d4-4c10-9414-42c131da2262"
      },
      "execution_count": 10,
      "outputs": [
        {
          "output_type": "stream",
          "name": "stdout",
          "text": [
            "Found 4000 images belonging to 2 classes.\n",
            "Found 600 images belonging to 2 classes.\n"
          ]
        }
      ]
    },
    {
      "cell_type": "code",
      "source": [
        "vgg = VGG16(weights='imagenet', include_top=False,input_shape = (224,224,3))"
      ],
      "metadata": {
        "colab": {
          "base_uri": "https://localhost:8080/"
        },
        "id": "d-LDrypyLlrm",
        "outputId": "4454ded3-e172-4e04-c817-73111db5acf9"
      },
      "execution_count": 11,
      "outputs": [
        {
          "output_type": "stream",
          "name": "stdout",
          "text": [
            "Downloading data from https://storage.googleapis.com/tensorflow/keras-applications/vgg16/vgg16_weights_tf_dim_ordering_tf_kernels_notop.h5\n",
            "58892288/58889256 [==============================] - 1s 0us/step\n",
            "58900480/58889256 [==============================] - 1s 0us/step\n"
          ]
        }
      ]
    },
    {
      "cell_type": "code",
      "source": [
        "for layer in vgg.layers:\n",
        "    layer.trainable = False"
      ],
      "metadata": {
        "id": "gaMIE3roLq9i"
      },
      "execution_count": 12,
      "outputs": []
    },
    {
      "cell_type": "code",
      "source": [
        "vgg16_model = Sequential()\n",
        "vgg16_model.add(vgg)\n",
        "vgg16_model.add(Flatten())\n",
        "vgg16_model.add(Dense(2, activation = \"softmax\"))\n",
        "\n",
        "vgg16_model.summary()"
      ],
      "metadata": {
        "colab": {
          "base_uri": "https://localhost:8080/"
        },
        "id": "wjUD8s7mLt-m",
        "outputId": "37837588-512a-49c4-9c91-2ac0b8e43985"
      },
      "execution_count": 13,
      "outputs": [
        {
          "output_type": "stream",
          "name": "stdout",
          "text": [
            "Model: \"sequential\"\n",
            "_________________________________________________________________\n",
            " Layer (type)                Output Shape              Param #   \n",
            "=================================================================\n",
            " vgg16 (Functional)          (None, 7, 7, 512)         14714688  \n",
            "                                                                 \n",
            " flatten (Flatten)           (None, 25088)             0         \n",
            "                                                                 \n",
            " dense (Dense)               (None, 2)                 50178     \n",
            "                                                                 \n",
            "=================================================================\n",
            "Total params: 14,764,866\n",
            "Trainable params: 50,178\n",
            "Non-trainable params: 14,714,688\n",
            "_________________________________________________________________\n"
          ]
        }
      ]
    },
    {
      "cell_type": "code",
      "source": [
        "val_steps = test_set.n // test_set.batch_size\n",
        "steps_per_epoch = training_set.n // training_set.batch_size\n",
        "\n",
        "checkpoint = ModelCheckpoint(\"vgg16.h5\",monitor = \"val_accuracy\",save_best_only = True,verbose=1)\n",
        "earlystop = EarlyStopping(monitor=\"val_accuracy\",patience=8,verbose=1)\n",
        "\n",
        "sgd = SGD(lr=0.01, momentum=0.9, nesterov=True)\n",
        "vgg16_model.compile(optimizer=sgd,loss = \"categorical_crossentropy\",metrics = [\"accuracy\"])\n",
        "\n",
        "history = vgg16_model.fit(x=training_set,\n",
        "                 validation_data=test_set,\n",
        "                 epochs=25,\n",
        "                 callbacks=[checkpoint,earlystop],\n",
        "                 steps_per_epoch=steps_per_epoch,\n",
        "                 validation_steps=val_steps)"
      ],
      "metadata": {
        "colab": {
          "base_uri": "https://localhost:8080/"
        },
        "id": "ujQsgQ7gLzRI",
        "outputId": "51711b6b-6dc7-4a7b-bedb-c6814ad20ae7"
      },
      "execution_count": null,
      "outputs": [
        {
          "output_type": "stream",
          "name": "stderr",
          "text": [
            "/usr/local/lib/python3.7/dist-packages/keras/optimizer_v2/gradient_descent.py:102: UserWarning: The `lr` argument is deprecated, use `learning_rate` instead.\n",
            "  super(SGD, self).__init__(name, **kwargs)\n"
          ]
        },
        {
          "output_type": "stream",
          "name": "stdout",
          "text": [
            "Epoch 1/25\n",
            " 69/125 [===============>..............] - ETA: 16:44 - loss: 11.3754 - accuracy: 0.6585"
          ]
        },
        {
          "output_type": "stream",
          "name": "stderr",
          "text": [
            "/usr/local/lib/python3.7/dist-packages/PIL/Image.py:960: UserWarning: Palette images with Transparency expressed in bytes should be converted to RGBA images\n",
            "  \"Palette images with Transparency expressed in bytes should be \"\n"
          ]
        },
        {
          "output_type": "stream",
          "name": "stdout",
          "text": [
            "125/125 [==============================] - ETA: 0s - loss: 8.2842 - accuracy: 0.7178 \n",
            "Epoch 00001: val_accuracy improved from -inf to 0.96007, saving model to vgg16.h5\n",
            "125/125 [==============================] - 2560s 20s/step - loss: 8.2842 - accuracy: 0.7178 - val_loss: 0.4355 - val_accuracy: 0.9601\n",
            "Epoch 2/25\n",
            "125/125 [==============================] - ETA: 0s - loss: 2.4107 - accuracy: 0.8505 \n",
            "Epoch 00002: val_accuracy did not improve from 0.96007\n",
            "125/125 [==============================] - 2383s 19s/step - loss: 2.4107 - accuracy: 0.8505 - val_loss: 0.4541 - val_accuracy: 0.9566\n",
            "Epoch 3/25\n",
            "125/125 [==============================] - ETA: 0s - loss: 1.8386 - accuracy: 0.8633 \n",
            "Epoch 00003: val_accuracy did not improve from 0.96007\n",
            "125/125 [==============================] - 2382s 19s/step - loss: 1.8386 - accuracy: 0.8633 - val_loss: 1.2222 - val_accuracy: 0.9080\n",
            "Epoch 4/25\n",
            " 37/125 [=======>......................] - ETA: 24:02 - loss: 2.0609 - accuracy: 0.8598"
          ]
        }
      ]
    },
    {
      "cell_type": "code",
      "source": [
        ""
      ],
      "metadata": {
        "id": "2TFYkx-1MEyL"
      },
      "execution_count": null,
      "outputs": []
    }
  ]
}